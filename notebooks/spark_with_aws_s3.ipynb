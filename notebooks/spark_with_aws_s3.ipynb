{
 "cells": [
  {
   "cell_type": "markdown",
   "id": "f30084dd-b5cd-425b-be62-7cf6965320bd",
   "metadata": {},
   "source": [
    "### Configure SparkSession credentials to connect with S3 (MinIO)\n",
    "\n",
    "> For this project I used a **MinIO** instance to mock AWS S3 and haven't tried it with AWS\n",
    "\n",
    "> It can take some time to create an instance"
   ]
  },
  {
   "cell_type": "code",
   "execution_count": null,
   "id": "94a55726-916b-4dbf-8576-303231cbc273",
   "metadata": {
    "tags": []
   },
   "outputs": [],
   "source": [
    "import os\n",
    "from pyspark.sql import SparkSession\n",
    "\n",
    "spark = SparkSession.builder \\\n",
    "    .master(\"local\") \\\n",
    "    .appName(\"Spark_S3\") \\\n",
    "    .config(\"fs.s3a.aws.credentials.provider\", \"com.amazonaws.auth.EnvironmentVariableCredentialsProvider\") \\\n",
    "    .config(\"fs.s3a.endpoint\", os.environ['AWS_ENDPOINT_URL']) \\\n",
    "    .config(\"fs.s3a.access.key\", os.environ['AWS_ACCESS_KEY_ID']) \\\n",
    "    .config(\"fs.s3a.secret.key\", os.environ['AWS_SECRET_ACCESS_KEY'])\\\n",
    "    .getOrCreate()"
   ]
  },
  {
   "cell_type": "markdown",
   "id": "336fdfcc-4a4d-4af6-a0d4-5a8eb2846f33",
   "metadata": {},
   "source": [
    "### Read files from bucket"
   ]
  },
  {
   "cell_type": "code",
   "execution_count": null,
   "id": "94e6ab22-d2ae-4b48-ae77-a8a9b42761a7",
   "metadata": {},
   "outputs": [],
   "source": [
    "bucket = 'my_bucket'\n",
    "file_key= 'file.txt'\n",
    "\n",
    "spark_df = spark.read.json(f\"s3a://{bucket}/{file_key}\", multiLine=True)"
   ]
  },
  {
   "cell_type": "markdown",
   "id": "a66c2b02-2973-4a52-8654-51883b2bc573",
   "metadata": {
    "tags": []
   },
   "source": [
    "### Process your data"
   ]
  },
  {
   "cell_type": "code",
   "execution_count": null,
   "id": "92dfd77e-fce8-4108-a255-cfc7e69f70c5",
   "metadata": {
    "tags": []
   },
   "outputs": [],
   "source": [
    "from pyspark.sql import functions as F"
   ]
  },
  {
   "cell_type": "code",
   "execution_count": null,
   "id": "d6fbe39b-6c1f-406b-b609-b444dd4dc3af",
   "metadata": {
    "tags": []
   },
   "outputs": [],
   "source": [
    "spark_df.printSchema()"
   ]
  },
  {
   "cell_type": "code",
   "execution_count": null,
   "id": "af7ac380-bec1-44eb-b888-f2b8779141a5",
   "metadata": {},
   "outputs": [],
   "source": []
  }
 ],
 "metadata": {
  "kernelspec": {
   "display_name": "Python 3 (ipykernel)",
   "language": "python",
   "name": "python3"
  },
  "language_info": {
   "codemirror_mode": {
    "name": "ipython",
    "version": 3
   },
   "file_extension": ".py",
   "mimetype": "text/x-python",
   "name": "python",
   "nbconvert_exporter": "python",
   "pygments_lexer": "ipython3",
   "version": "3.10.9"
  }
 },
 "nbformat": 4,
 "nbformat_minor": 5
}
